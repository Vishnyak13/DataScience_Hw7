{
 "cells": [
  {
   "cell_type": "markdown",
   "id": "c7c444f2",
   "metadata": {},
   "source": [
    "# Завдання 1\n",
    "У цьому завданні необхідно створити свій власний лінійний класифікатор, а рішення рекомендується оформити у вигляді jupyter ноутбука.\n",
    "\n",
    "Ми колись вже спостерігали деякі \"іграшкові\" датасети, які доступні в бібліотеці sklearn. Спробуємо створити лінійну модель для одного такого датасету. Для охочих повний список можна знайти [тут](https://scikit-learn.org/stable/datasets/toy_dataset.html) та [тут](https://scikit-learn.org/stable/modules/classes.html#module-sklearn.datasets). Нас же цікавитиме \"винний\" датасет, інформацію про який можна знайти [тут](https://scikit-learn.org/stable/modules/generated/sklearn.datasets.load_wine.html#sklearn.datasets.load_wine).\n",
    "\n",
    "1. Завантажте датасет, виконавши наступний код\n",
    "```python\n",
    "from sklearn.datasets import load_wine\n",
    "wine_dataset = load_wine()\n",
    "```\n",
    "\n",
    "2. Вивчіть документацію функції [train_test_split](https://scikit-learn.org/stable/modules/generated/sklearn.model_selection.train_test_split.html?highlight=train_test_split#sklearn.model_selection.train_test_split). З її допомогою датасет можна розділити на тренувальну та тестову вибірки. Перша потрібна для навчання моделі, а друга - для оцінки якості моделі.\n",
    "\n",
    "3. Розділіть `wine_dataset` на навчальну та тестову вибірки.\n",
    "\n",
    "4. Навчіть модель на тренувальній вибірці та оцініть її якість на тестовій.\n",
    "\n",
    "5. Спробуйте повторити кроки 3 і 4 розбивши датасет на навчальну та тестову вибірки в якійсь власній пропорції. Як це вплинуло на якість моделі?"
   ]
  },
  {
   "cell_type": "code",
   "execution_count": 1,
   "id": "fa0da442",
   "metadata": {},
   "outputs": [],
   "source": [
    "from sklearn.datasets import load_wine\n",
    "from sklearn.model_selection import train_test_split"
   ]
  },
  {
   "cell_type": "code",
   "execution_count": 2,
   "id": "1e8c902f",
   "metadata": {},
   "outputs": [
    {
     "data": {
      "text/plain": [
       "(array([[1.423e+01, 1.710e+00, 2.430e+00, ..., 1.040e+00, 3.920e+00,\n",
       "         1.065e+03],\n",
       "        [1.320e+01, 1.780e+00, 2.140e+00, ..., 1.050e+00, 3.400e+00,\n",
       "         1.050e+03],\n",
       "        [1.316e+01, 2.360e+00, 2.670e+00, ..., 1.030e+00, 3.170e+00,\n",
       "         1.185e+03],\n",
       "        ...,\n",
       "        [1.327e+01, 4.280e+00, 2.260e+00, ..., 5.900e-01, 1.560e+00,\n",
       "         8.350e+02],\n",
       "        [1.317e+01, 2.590e+00, 2.370e+00, ..., 6.000e-01, 1.620e+00,\n",
       "         8.400e+02],\n",
       "        [1.413e+01, 4.100e+00, 2.740e+00, ..., 6.100e-01, 1.600e+00,\n",
       "         5.600e+02]]),\n",
       " array([0, 0, 0, 0, 0, 0, 0, 0, 0, 0, 0, 0, 0, 0, 0, 0, 0, 0, 0, 0, 0, 0,\n",
       "        0, 0, 0, 0, 0, 0, 0, 0, 0, 0, 0, 0, 0, 0, 0, 0, 0, 0, 0, 0, 0, 0,\n",
       "        0, 0, 0, 0, 0, 0, 0, 0, 0, 0, 0, 0, 0, 0, 0, 1, 1, 1, 1, 1, 1, 1,\n",
       "        1, 1, 1, 1, 1, 1, 1, 1, 1, 1, 1, 1, 1, 1, 1, 1, 1, 1, 1, 1, 1, 1,\n",
       "        1, 1, 1, 1, 1, 1, 1, 1, 1, 1, 1, 1, 1, 1, 1, 1, 1, 1, 1, 1, 1, 1,\n",
       "        1, 1, 1, 1, 1, 1, 1, 1, 1, 1, 1, 1, 1, 1, 1, 1, 1, 1, 1, 1, 2, 2,\n",
       "        2, 2, 2, 2, 2, 2, 2, 2, 2, 2, 2, 2, 2, 2, 2, 2, 2, 2, 2, 2, 2, 2,\n",
       "        2, 2, 2, 2, 2, 2, 2, 2, 2, 2, 2, 2, 2, 2, 2, 2, 2, 2, 2, 2, 2, 2,\n",
       "        2, 2]))"
      ]
     },
     "execution_count": 2,
     "metadata": {},
     "output_type": "execute_result"
    }
   ],
   "source": [
    "wine_dataset = load_wine()\n",
    "X, y = load_wine(return_X_y=True)\n",
    "X, y"
   ]
  },
  {
   "cell_type": "code",
   "execution_count": 3,
   "id": "346fb9a7",
   "metadata": {},
   "outputs": [],
   "source": [
    "X_train, X_test, y_train, y_test = train_test_split(X, y, test_size=0.3, random_state=42)"
   ]
  },
  {
   "cell_type": "markdown",
   "id": "b917a1e4",
   "metadata": {},
   "source": [
    "## Классифікатор з використанням регрессії Ріджа -  RidgeClassifier"
   ]
  },
  {
   "cell_type": "code",
   "execution_count": 4,
   "id": "13cf514a",
   "metadata": {},
   "outputs": [],
   "source": [
    "from sklearn.linear_model import RidgeClassifier"
   ]
  },
  {
   "cell_type": "code",
   "execution_count": 5,
   "id": "67224145",
   "metadata": {},
   "outputs": [
    {
     "data": {
      "text/plain": [
       "0.9814814814814815"
      ]
     },
     "execution_count": 5,
     "metadata": {},
     "output_type": "execute_result"
    }
   ],
   "source": [
    "clf_R = RidgeClassifier(random_state=42).fit(X_train, y_train)\n",
    "clf_R.score(X_test, y_test)"
   ]
  },
  {
   "cell_type": "code",
   "execution_count": 6,
   "id": "cb53294f",
   "metadata": {},
   "outputs": [
    {
     "data": {
      "text/plain": [
       "array([0, 0, 2, 0, 1, 0, 1, 2, 1, 2, 0, 2, 0, 1, 0, 1, 1, 1, 0, 1, 0, 1,\n",
       "       1, 2, 2, 2, 1, 1, 1, 0, 0, 1, 2, 0, 0, 0, 2, 2, 1, 2, 0, 1, 1, 0,\n",
       "       2, 0, 1, 1, 2, 0, 1, 0, 0, 2])"
      ]
     },
     "execution_count": 6,
     "metadata": {},
     "output_type": "execute_result"
    }
   ],
   "source": [
    "clf_R.predict(X_test)"
   ]
  },
  {
   "cell_type": "markdown",
   "id": "7ea323b6",
   "metadata": {},
   "source": [
    "## Стратегія \"один проти всіх\" -  OneVsRestClassifier"
   ]
  },
  {
   "cell_type": "code",
   "execution_count": 7,
   "id": "aa97204b",
   "metadata": {},
   "outputs": [],
   "source": [
    "from sklearn.multiclass import OneVsRestClassifier\n",
    "from sklearn.svm import SVC"
   ]
  },
  {
   "cell_type": "code",
   "execution_count": 8,
   "id": "01d424a4",
   "metadata": {},
   "outputs": [
    {
     "data": {
      "text/plain": [
       "0.7222222222222222"
      ]
     },
     "execution_count": 8,
     "metadata": {},
     "output_type": "execute_result"
    }
   ],
   "source": [
    "clf_OvR = OneVsRestClassifier(SVC()).fit(X_train, y_train)\n",
    "clf_OvR.score(X_test, y_test)"
   ]
  },
  {
   "cell_type": "code",
   "execution_count": 9,
   "id": "7b651f7d",
   "metadata": {},
   "outputs": [
    {
     "data": {
      "text/plain": [
       "array([0, 0, 1, 0, 1, 0, 1, 0, 1, 0, 0, 1, 0, 1, 0, 1, 1, 1, 0, 1, 0, 1,\n",
       "       1, 1, 1, 1, 1, 1, 1, 0, 0, 1, 0, 0, 0, 0, 1, 1, 1, 1, 0, 1, 1, 0,\n",
       "       1, 0, 1, 1, 1, 0, 1, 0, 0, 1])"
      ]
     },
     "execution_count": 9,
     "metadata": {},
     "output_type": "execute_result"
    }
   ],
   "source": [
    "clf_OvR.predict(X_test)"
   ]
  },
  {
   "cell_type": "markdown",
   "id": "54905daf",
   "metadata": {},
   "source": [
    "## Стратегія \"один проти решти\" - LogisticRegression"
   ]
  },
  {
   "cell_type": "code",
   "execution_count": 10,
   "id": "b8f8d991",
   "metadata": {},
   "outputs": [],
   "source": [
    "from sklearn.linear_model import LogisticRegression "
   ]
  },
  {
   "cell_type": "code",
   "execution_count": 11,
   "id": "7c59d474",
   "metadata": {},
   "outputs": [
    {
     "data": {
      "text/plain": [
       "1.0"
      ]
     },
     "execution_count": 11,
     "metadata": {},
     "output_type": "execute_result"
    }
   ],
   "source": [
    "clf_LR = LogisticRegression(random_state=42, max_iter=4000).fit(X_train, y_train)\n",
    "clf_LR.score(X_test, y_test)"
   ]
  },
  {
   "cell_type": "code",
   "execution_count": 12,
   "id": "ff3daaa3",
   "metadata": {},
   "outputs": [
    {
     "data": {
      "text/plain": [
       "array([0, 0, 2, 0, 1, 0, 1, 2, 1, 2, 0, 2, 0, 1, 0, 1, 1, 1, 0, 1, 0, 1,\n",
       "       1, 2, 2, 2, 1, 1, 1, 0, 0, 1, 2, 0, 0, 0, 2, 2, 1, 2, 0, 1, 1, 1,\n",
       "       2, 0, 1, 1, 2, 0, 1, 0, 0, 2])"
      ]
     },
     "execution_count": 12,
     "metadata": {},
     "output_type": "execute_result"
    }
   ],
   "source": [
    "clf_LR.predict(X_test)"
   ]
  },
  {
   "cell_type": "markdown",
   "id": "db25df8d",
   "metadata": {},
   "source": [
    "## test_size=0.5"
   ]
  },
  {
   "cell_type": "code",
   "execution_count": 13,
   "id": "e8f19f97",
   "metadata": {},
   "outputs": [],
   "source": [
    "X_train, X_test, y_train, y_test = train_test_split(X, y, test_size=0.5, random_state=42)"
   ]
  },
  {
   "cell_type": "code",
   "execution_count": 14,
   "id": "4478a317",
   "metadata": {},
   "outputs": [
    {
     "data": {
      "text/plain": [
       "0.9775280898876404"
      ]
     },
     "execution_count": 14,
     "metadata": {},
     "output_type": "execute_result"
    }
   ],
   "source": [
    "# RidgeClassifier\n",
    "clf_R = RidgeClassifier(random_state=42).fit(X_train, y_train)\n",
    "clf_R.score(X_test, y_test)"
   ]
  },
  {
   "cell_type": "code",
   "execution_count": 15,
   "id": "0293e8d7",
   "metadata": {},
   "outputs": [
    {
     "data": {
      "text/plain": [
       "0.7078651685393258"
      ]
     },
     "execution_count": 15,
     "metadata": {},
     "output_type": "execute_result"
    }
   ],
   "source": [
    "#OneVsRestClassifier\n",
    "clf_OvR = OneVsRestClassifier(SVC()).fit(X_train, y_train)\n",
    "clf_OvR.score(X_test, y_test)"
   ]
  },
  {
   "cell_type": "code",
   "execution_count": 16,
   "id": "832add2d",
   "metadata": {},
   "outputs": [
    {
     "data": {
      "text/plain": [
       "0.9438202247191011"
      ]
     },
     "execution_count": 16,
     "metadata": {},
     "output_type": "execute_result"
    }
   ],
   "source": [
    "#LogisticRegression\n",
    "clf_LR = LogisticRegression(random_state=42, max_iter=4000).fit(X_train, y_train)\n",
    "clf_LR.score(X_test, y_test)"
   ]
  },
  {
   "cell_type": "markdown",
   "id": "c276c2e8",
   "metadata": {},
   "source": [
    "## test_size=0.75"
   ]
  },
  {
   "cell_type": "code",
   "execution_count": 17,
   "id": "955eb64e",
   "metadata": {},
   "outputs": [],
   "source": [
    "X_train, X_test, y_train, y_test = train_test_split(X, y, test_size=0.75, random_state=42)"
   ]
  },
  {
   "cell_type": "code",
   "execution_count": 18,
   "id": "3d892124",
   "metadata": {},
   "outputs": [
    {
     "data": {
      "text/plain": [
       "0.9328358208955224"
      ]
     },
     "execution_count": 18,
     "metadata": {},
     "output_type": "execute_result"
    }
   ],
   "source": [
    "# RidgeClassifier\n",
    "clf_R = RidgeClassifier(random_state=42).fit(X_train, y_train)\n",
    "clf_R.score(X_test, y_test)"
   ]
  },
  {
   "cell_type": "code",
   "execution_count": 19,
   "id": "32b454c4",
   "metadata": {},
   "outputs": [
    {
     "data": {
      "text/plain": [
       "0.7014925373134329"
      ]
     },
     "execution_count": 19,
     "metadata": {},
     "output_type": "execute_result"
    }
   ],
   "source": [
    "#OneVsRestClassifier\n",
    "clf_OvR = OneVsRestClassifier(SVC()).fit(X_train, y_train)\n",
    "clf_OvR.score(X_test, y_test)"
   ]
  },
  {
   "cell_type": "code",
   "execution_count": 20,
   "id": "b141dcd9",
   "metadata": {},
   "outputs": [
    {
     "data": {
      "text/plain": [
       "0.917910447761194"
      ]
     },
     "execution_count": 20,
     "metadata": {},
     "output_type": "execute_result"
    }
   ],
   "source": [
    "#LogisticRegression\n",
    "clf_LR = LogisticRegression(random_state=42, max_iter=4000).fit(X_train, y_train)\n",
    "clf_LR.score(X_test, y_test)"
   ]
  },
  {
   "cell_type": "markdown",
   "id": "342c2299",
   "metadata": {},
   "source": [
    "**Висновок**\n",
    "При рекомендованому розподілі на тренувальну та тестову вибірку у відношенні 70/30% найкращі результати показали класифікатор Ріджа та лінійна регресія. При збільшенні вибірки в сторону тестових значень (50% та 75%) показники тренування падали, але знову ж, класифікатор Ріджа та лінійна регресія тримались на рівні до 90%."
   ]
  }
 ],
 "metadata": {
  "kernelspec": {
   "display_name": "Python 3 (ipykernel)",
   "language": "python",
   "name": "python3"
  },
  "language_info": {
   "codemirror_mode": {
    "name": "ipython",
    "version": 3
   },
   "file_extension": ".py",
   "mimetype": "text/x-python",
   "name": "python",
   "nbconvert_exporter": "python",
   "pygments_lexer": "ipython3",
   "version": "3.9.13"
  }
 },
 "nbformat": 4,
 "nbformat_minor": 5
}
